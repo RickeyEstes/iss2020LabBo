{
 "cells": [
  {
   "cell_type": "markdown",
   "metadata": {},
   "source": [
    "# Command console CoAP-pixiedust for the dccompose system\n",
    "\n",
    "send commands by using the coap path <b>ctxbasicrobot/basicrobot</b>"
   ]
  },
  {
   "cell_type": "code",
   "execution_count": 1,
   "metadata": {},
   "outputs": [
    {
     "name": "stdout",
     "output_type": "stream",
     "text": [
      "Pixiedust database opened successfully\n"
     ]
    },
    {
     "data": {
      "text/html": [
       "\n",
       "        <div style=\"margin:10px\">\n",
       "            <a href=\"https://github.com/ibm-watson-data-lab/pixiedust\" target=\"_new\">\n",
       "                <img src=\"https://github.com/ibm-watson-data-lab/pixiedust/raw/master/docs/_static/pd_icon32.png\" style=\"float:left;margin-right:10px\"/>\n",
       "            </a>\n",
       "            <span>Pixiedust version 1.1.18</span>\n",
       "        </div>\n",
       "        "
      ],
      "text/plain": [
       "<IPython.core.display.HTML object>"
      ]
     },
     "metadata": {},
     "output_type": "display_data"
    },
    {
     "data": {
      "text/html": [
       "\n",
       "            <div style=\"margin:10px\"> \n",
       "            <a href=\"https://github.com/ibm-cds-labs/pixiedust_node\" target=\"_new\"> \n",
       "            <img src=\"https://github.com/ibm-cds-labs/pixiedust_node/raw/master/docs/_images/pdn_icon32.png\" style=\"float:left;margin-right:10px\"/> \n",
       "            </a> \n",
       "            <span>Pixiedust Node.js</span> \n",
       "            </div> \n"
      ],
      "text/plain": [
       "<IPython.core.display.HTML object>"
      ]
     },
     "metadata": {},
     "output_type": "display_data"
    },
    {
     "name": "stdout",
     "output_type": "stream",
     "text": [
      "pixiedust_node 0.2.5 started. Cells starting '%%node' may contain Node.js code.\n"
     ]
    }
   ],
   "source": [
    "## 1) ENABLE nodejs syntax within python\n",
    "import pixiedust_node"
   ]
  },
  {
   "cell_type": "code",
   "execution_count": 2,
   "metadata": {},
   "outputs": [
    {
     "name": "stdout",
     "output_type": "stream",
     "text": [
      "... ... ... ...\n",
      "... ... ..... ..... ... ... ... ...\n",
      "GET coap://localhost:8037/ctxdcreceiver/dcreceiver\n"
     ]
    }
   ],
   "source": [
    "%%node\n",
    "/*\n",
    "------------------------------------------------------------\n",
    "DECLARE BASIC VARIABLES AND FUNCTIONS\n",
    "------------------------------------------------------------\n",
    "*/\n",
    "const coap            = require(\"C:/Didattica2018Work/iss2020LabBo/it.unibo.qak20.sensors/resources/node_modules/node-coap-client\").CoapClient; \n",
    "var coapResourceAddr  = \"coap://localhost:8037/ctxdcreceiver/dcreceiver\";\n",
    "\n",
    "var coapGet = function ( ){\n",
    "    console.log(\"coapGet \" + coapResourceAddr);\n",
    "    coap.request(\n",
    "             coapResourceAddr,\n",
    "             'get' )\n",
    "    .then(response => { console.log(\"coap get done> \" + response.payload );}  )\n",
    "    .catch(err => { console.log(\"coap get error> \" + err );}                  )\n",
    "    ;   \n",
    "}\n",
    "\n",
    "console.log( \"GET \" + coapResourceAddr ) "
   ]
  },
  {
   "cell_type": "code",
   "execution_count": null,
   "metadata": {},
   "outputs": [],
   "source": [
    "%%node\n",
    "console.log( \"GET \" + coapResourceAddr ) \n",
    " "
   ]
  },
  {
   "cell_type": "code",
   "execution_count": null,
   "metadata": {},
   "outputs": [],
   "source": [
    "%%node\n",
    "var coapGet = function ( ){\n",
    "    console.log(\"coapGet \" + coapResourceAddr);\n",
    "    coap.request(\n",
    "             coapResourceAddr,\n",
    "             'get' )\n",
    "    .then(response => { console.log(\"coap get done> \" + response.payload );}  )\n",
    "    .catch(err => { console.log(\"coap get error> \" + err );}                  )\n",
    "    ;   \n",
    "}\n",
    "\n",
    "console.log( \"coapGet \" + coapGet )  "
   ]
  },
  {
   "cell_type": "code",
   "execution_count": 3,
   "metadata": {},
   "outputs": [
    {
     "name": "stdout",
     "output_type": "stream",
     "text": [
      "... ... ... ...\n",
      "coapGet coap://localhost:8037/ctxdcreceiver/dcreceiver\n",
      "coap get error> TypeError: url_1.URL is not a constructor\n"
     ]
    }
   ],
   "source": [
    "%%node\n",
    "/*\n",
    "------------------------------------------------------------\n",
    "USE THE ROBOT\n",
    "------------------------------------------------------------\n",
    "*/\n",
    "coapGet()"
   ]
  },
  {
   "cell_type": "code",
   "execution_count": null,
   "metadata": {},
   "outputs": [],
   "source": [
    "%%node\n",
    "function createCoapClient( ){\n",
    "console.log(\"coapClientToResourceModel | createCoapClient \"  );\n",
    "coap\n",
    "    .observe(\n",
    "        coapResourceAddr ,\n",
    "        \"get\"\n",
    "     )\n",
    "    .then( response => { console.log(\"coapClientToResourceModel | observe setup \" ); })\n",
    "    .catch(err => { console.log(\"coapClientToResourceModel | observe error \" + err )  })\n",
    "    \n",
    "}\n",
    "//console.log( \"createCoapClient \" + createCoapClient ) \n",
    "createCoapClient( )"
   ]
  },
  {
   "cell_type": "code",
   "execution_count": null,
   "metadata": {},
   "outputs": [],
   "source": []
  },
  {
   "cell_type": "code",
   "execution_count": null,
   "metadata": {},
   "outputs": [],
   "source": [
    "%%node\n",
    "\n",
    "function createCoapClient( resourceAddr ){\n",
    "console.log(\"coapClientToResourceModel | createCoapClient \"  );\n",
    "coap\n",
    "    .observe(\n",
    "        resourceAddr /* string */,\n",
    "        \"get\" /* \"get\" | \"post\" | \"put\" | \"delete\" */,\n",
    "     )\n",
    "    .then(() => { console.log(\"coapClientToResourceModel | observe setup \" ); /* observing was successfully set up */})\n",
    "    .catch(err => { console.log(\"coapClientToResourceModel | observe error \" + err )  /* handle error */ })\n",
    "    \n",
    "}\n",
    "\n",
    "function setcoapAddr( addr ){\n",
    "    coapResourceAddr = addr;\n",
    "    console.log(\"coap | coapResourceAddr=\" + coapResourceAddr);\n",
    "    createCoapClient( coapResourceAddr   );\n",
    "}\n",
    "\n",
    "//setcoapAddr(coapResourceAddr)\n",
    "\n",
    "console.log(\"hello \"  )"
   ]
  },
  {
   "cell_type": "code",
   "execution_count": null,
   "metadata": {},
   "outputs": [],
   "source": [
    "%%node\n",
    "\n",
    "/*\n",
    "frontend/uniboSupports/coapClientToResourceModel\n",
    "*/\n",
    "\n",
    "//const handle           = require('./qakeventHandler');  \n",
    "const coap             = require(\"C:/Didattica2018Work/iss2020LabBo/it.unibo.qak20.sensors/resources/node_modules/node-coap-client\").CoapClient; \n",
    "var coapAddr             = \"coap://localhost:5683\"\n",
    "var coapResourceAddr   \t = coapAddr + \"/ctxbasicrobot/basicrobot\"\n",
    "//var sensorResourceAddr   = coapAddr + \"/robot/sonar\"\n",
    "/*\n",
    "coap\n",
    "    .tryToConnect( coapAddr )\n",
    "    .then((result ) => { //  true or error code or Error instance  \n",
    "        console.log(\"coap | connection done\"); // do something with the result  \n",
    "    })\n",
    "    ;\n",
    "*/\n",
    "/* -------------------------------------------\n",
    "function handeData( response ){\n",
    "\tconsole.log(\"\t\tcoapClientToResourceModel | handeData \" + response.payload);\n",
    "}\n",
    "*/\n",
    "\n",
    "function createCoapClient( resourceAddr ){\n",
    "console.log(\"\t\tcoapClientToResourceModel | createCoapClient \"  );\n",
    "coap\n",
    "    .observe(\n",
    "        resourceAddr /* string */,\n",
    "        \"get\" /* \"get\" | \"post\" | \"put\" | \"delete\" */,\n",
    "        //handle.handeData //handeData /* function */\n",
    "        //[payload /* Buffer */,]\n",
    "        //[options /* RequestOptions */]\n",
    "    )\n",
    "    .then(() => { console.log(\"\t\tcoapClientToResourceModel | observe setup \" ); /* observing was successfully set up */})\n",
    "    .catch(err => { console.log(\"\t\tcoapClientToResourceModel | observe error \" + err )  /* handle error */ })\n",
    "    ;\n",
    "}\n",
    "\n",
    " \n",
    "exports.setcoapAddr = function ( addr ){\n",
    "\tcoapResourceAddr = addr\n",
    "\tconsole.log(\"coap | coapResourceAddr=\" + coapResourceAddr);\n",
    "\tcreateCoapClient( coapResourceAddr   );\n",
    "\t//createCoapClient( sensorResourceAddr );\n",
    "}\n",
    "\n",
    "exports.coapGet = function (  ){\n",
    "\tcoap\n",
    "\t    .request(\n",
    "\t         coapResourceAddr,\n",
    "\t        \"get\" /* \"get\" | \"post\" | \"put\" | \"delete\" */\n",
    " \t        //[payload /* Buffer */,\n",
    "\t        //[options /* RequestOptions */]]\n",
    "\t    )\n",
    "\t    .then(response => { \t\t\t/* handle response */\n",
    "\t    \tconsole.log(\"coap get done> \" + response.payload );}\n",
    "\t     )\n",
    "\t    .catch(err => { /* handle error */ \n",
    "\t    \tconsole.log(\"coap get error> \" + err );}\n",
    "\t    )\n",
    "\t    ;\n",
    "\t    \n",
    "}//coapPut\n",
    "\n",
    "exports.coapPut = function (  cmd ){ \n",
    "console.log(\"PUT \" + coapResourceAddr);\n",
    "\tcoap\n",
    "\t    .request(\n",
    "\t        coapResourceAddr,     \n",
    "\t        \"put\" ,\t\t\t                          // \"get\" | \"post\" | \"put\" | \"delete\"   \n",
    "\t        new Buffer(cmd )                          // payload Buffer \n",
    " \t        //[options]]\t\t\t\t\t\t\t//  RequestOptions \n",
    "\t    )\n",
    "\t    .then(response => { \t\t\t// handle response  \n",
    "\t    \tconsole.log(\"coap put done> \" + cmd + \" \" + response);} \n",
    "\t     )\n",
    "\t    .catch(err => { // handle error  \n",
    "\t    \tconsole.log(\"coap | put error> \" + err + \" for cmd=\" + cmd);}\n",
    "\t    )\n",
    "\t    ;\n",
    "\t    \n",
    "}//coapPut\n",
    "\n",
    "//const myself   = require('./coapClientToResourceModel');\n",
    "\n",
    "function test(){\n",
    " \tconsole.log(\"GET\");\n",
    "  \t//myself.coapGet();\n",
    " \t//console.log(\"PUT\");\n",
    " \t//myself.coapPut(\"r\")\n",
    " \t//myself.coapGet();\n",
    "}"
   ]
  },
  {
   "cell_type": "code",
   "execution_count": null,
   "metadata": {},
   "outputs": [],
   "source": []
  }
 ],
 "metadata": {
  "kernelspec": {
   "display_name": "Python 3",
   "language": "python",
   "name": "python3"
  },
  "language_info": {
   "codemirror_mode": {
    "name": "ipython",
    "version": 3
   },
   "file_extension": ".py",
   "mimetype": "text/x-python",
   "name": "python",
   "nbconvert_exporter": "python",
   "pygments_lexer": "ipython3",
   "version": "3.7.3"
  }
 },
 "nbformat": 4,
 "nbformat_minor": 4
}
