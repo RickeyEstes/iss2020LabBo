{
 "cells": [
  {
   "cell_type": "markdown",
   "metadata": {},
   "source": [
    "# Command console TCP for the dccompose system"
   ]
  },
  {
   "cell_type": "code",
   "execution_count": 1,
   "metadata": {},
   "outputs": [
    {
     "name": "stdout",
     "output_type": "stream",
     "text": [
      "connected to broker  mqtt.eclipse.org\n",
      "subscribing to unibo/polar\n",
      "starting the client loop to receive sonar data\n",
      "console  STARTS :\n"
     ]
    },
    {
     "name": "stdin",
     "output_type": "stream",
     "text": [
      " w\n"
     ]
    },
    {
     "name": "stdout",
     "output_type": "stream",
     "text": [
      "forwardMqttMsg msg= msg(cmd,dispatch,python,dcreceiver,cmd(w),1)\n"
     ]
    },
    {
     "name": "stdin",
     "output_type": "stream",
     "text": [
      " l\n"
     ]
    },
    {
     "name": "stdout",
     "output_type": "stream",
     "text": [
      "forwardMqttMsg msg= msg(cmd,dispatch,python,dcreceiver,cmd(l),1)\n"
     ]
    },
    {
     "name": "stdin",
     "output_type": "stream",
     "text": [
      " a\n"
     ]
    },
    {
     "name": "stdout",
     "output_type": "stream",
     "text": [
      "forwardMqttMsg msg= msg(cmd,dispatch,python,dcreceiver,cmd(a),1)\n"
     ]
    },
    {
     "name": "stdin",
     "output_type": "stream",
     "text": [
      " t\n"
     ]
    },
    {
     "name": "stdout",
     "output_type": "stream",
     "text": [
      "forwardMqttMsg msg= msg(cmd,dispatch,python,dcreceiver,cmd(t),1)\n"
     ]
    },
    {
     "name": "stdin",
     "output_type": "stream",
     "text": [
      " q\n"
     ]
    }
   ],
   "source": [
    "##############################################################\n",
    "# dccomposeconsole.py\n",
    "##############################################################\n",
    "import paho.mqtt.client as paho\n",
    "import socket\n",
    "\n",
    "brokerAddr   = \"mqtt.eclipse.org\" ## \"broker.hivemq.com\"\n",
    "receiverAddr = \"localhost\"\n",
    "receiverPort = 8037\n",
    "destName     = \"dcreceiver\"\n",
    "client       = client= paho.Client(\"pyconsole\")\n",
    "\n",
    "sock = socket.socket(socket.AF_INET, socket.SOCK_STREAM)\n",
    "\n",
    "def connectTcp(port) :\n",
    "    server_address = (receiverAddr, port)\n",
    "    sock.connect(server_address)    \n",
    "    print(\"CONNECTED ... WITH \" , server_address)\n",
    "\n",
    "def connectMqtt():\n",
    "    client.on_message=on_message            # Bind function to callback    \n",
    "\n",
    "    client.connect(brokerAddr)              #connect\n",
    "    print(\"connected to broker \", brokerAddr)\n",
    "\n",
    "    print(\"subscribing to unibo/polar\")\n",
    "    client.subscribe(\"unibo/polar\")      #subscribe\n",
    "\n",
    "    print(\"starting the client loop to receive sonar data\" )\n",
    "    client.loop_start()                  #start loop to process received messages\n",
    "  \n",
    "\n",
    "def forward( move ) :\n",
    "    print(\"forward \", move)\n",
    "    msg = \"msg(cmd,dispatch,python,\"+destName+\",cmd(\"+move+\"),1)\" + \"\\n\"\n",
    "    byt=msg.encode()    #required in Python3\n",
    "    sock.send(byt)\n",
    "\n",
    "    \n",
    "#define callback\n",
    "def on_message(client, userdata, message):\n",
    "    print(\"received message =\",str(message.payload.decode(\"utf-8\")))\n",
    "\n",
    "def requestStep(  ):\n",
    "    msg = \"msg(step,request,py,basicrobot,step(350),1)\"\n",
    "    ##print(\"requestMsg  requestMsg= :\" , msg  )\n",
    "    client.publish(\"unibo/qak/basicrobot\",msg) \n",
    "\n",
    "def forwardMqttMsg( move ):\n",
    "    msg = \"msg(cmd,dispatch,python,\"+destName+\",cmd(\"+move+\"),1)\"\n",
    "    print(\"forwardMqttMsg msg=\" , msg  )\n",
    "    client.publish(\"unibo/qak/\"+str(destName),msg) \n",
    "\n",
    "  \n",
    "    \n",
    "def console() :  \n",
    "    print(\"console  STARTS :\"   )\n",
    "    cmd =  str( input() )\n",
    "    while( cmd != \"q\"  ) :\n",
    "        #print( cmd )\n",
    "        if( cmd == \"p\" ) :\n",
    "            print(\"not yet ...\")\n",
    "        else :\n",
    "            ##forward( cmd )\n",
    "            forwardMqttMsg( cmd )\n",
    "        cmd = str(input() )\n",
    "##################################################################\n",
    "connectMqtt()\n",
    "##connectTcp( receiverPort )\n",
    "console() "
   ]
  },
  {
   "cell_type": "code",
   "execution_count": null,
   "metadata": {},
   "outputs": [],
   "source": []
  }
 ],
 "metadata": {
  "kernelspec": {
   "display_name": "Python 3",
   "language": "python",
   "name": "python3"
  },
  "language_info": {
   "codemirror_mode": {
    "name": "ipython",
    "version": 3
   },
   "file_extension": ".py",
   "mimetype": "text/x-python",
   "name": "python",
   "nbconvert_exporter": "python",
   "pygments_lexer": "ipython3",
   "version": "3.7.3"
  }
 },
 "nbformat": 4,
 "nbformat_minor": 4
}
