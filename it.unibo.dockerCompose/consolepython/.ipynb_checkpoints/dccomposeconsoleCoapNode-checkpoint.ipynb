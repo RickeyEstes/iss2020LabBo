{
 "cells": [
  {
   "cell_type": "markdown",
   "metadata": {},
   "source": [
    "# Command console CoAP-Nodejs Kernel for the dccompose system \n",
    "\n",
    "Observe the dcreceiver as a CoAP resource"
   ]
  },
  {
   "cell_type": "code",
   "execution_count": null,
   "metadata": {},
   "outputs": [],
   "source": [
    "console.log( \"Welcome \"   )"
   ]
  },
  {
   "cell_type": "code",
   "execution_count": null,
   "metadata": {},
   "outputs": [],
   "source": [
    "/*\n",
    "------------------------------------------------------------\n",
    "DECLARE BASIC VARIABLES AND FUNCTIONS (just once ...)\n",
    "------------------------------------------------------------\n",
    "*/\n",
    "const readline        = require('../../it.unibo.qak20.sensors/resources/node_modules/readline-sync');\n",
    "const coap            = require(\"../../it.unibo.qak20.sensors/resources/node_modules/node-coap-client\").CoapClient; \n",
    "var coapResourceAddr  = \"coap://192.168.1.22:8037/ctxdcreceiver/dcreceiver\";\n",
    "\n",
    "console.log( \"CREATED connection to \" + coapResourceAddr ) "
   ]
  },
  {
   "cell_type": "code",
   "execution_count": null,
   "metadata": {},
   "outputs": [],
   "source": [
    "createCoapObserver = function( ){\n",
    "console.log(\"createCoapObserver \"  );\n",
    "coap.observe(\n",
    "        coapResourceAddr,\n",
    "        \"get\",\n",
    "        handeData\n",
    "     )\n",
    "    .then( () =>  { console.log(\"observing ...  \" ); })\n",
    "    .catch(err => { console.log(\"observing error \" + err );  });\n",
    "}//createCoapObserver\n",
    "\n",
    "handeData = function( response ){\n",
    "    console.log(\"observed: \" + response.payload);\n",
    "}//handeData\n",
    "\n",
    "console.log( \"CREATED createCoapObserver  \"   ) "
   ]
  },
  {
   "cell_type": "code",
   "execution_count": null,
   "metadata": {},
   "outputs": [],
   "source": [
    "createCoapObserver( )\n",
    "//let name       = readline.question(\"wait ...\");"
   ]
  },
  {
   "cell_type": "code",
   "execution_count": null,
   "metadata": {},
   "outputs": [],
   "source": [
    "coapGet = function ( ){\n",
    "    console.log(\"coapGet \" + coapResourceAddr);\n",
    "    coap.request(\n",
    "             coapResourceAddr,\n",
    "             'get' )\n",
    "    .then(response => { console.log(\"coap get done> \" + response.payload );}  )\n",
    "    .catch(err => { console.log(\"coap get error> \" + err );}                  )\n",
    "    ;   \n",
    "}\n",
    "\n",
    "coapPut = function ( cmd ){ \n",
    "console.log(\"PUT \" + coapResourceAddr);\n",
    "coap.request(\n",
    "    coapResourceAddr,     \n",
    "    \"put\" ,  \n",
    "    new Buffer(cmd )         // payload Buffer \n",
    "    //[options]]             //  RequestOptions \n",
    "    )\n",
    "    .then(response => { console.log(\"coap put done> \" + cmd + \" \" + response);} )\n",
    "    .catch(err => { console.log(\"coap | put error> \" + err + \" for cmd=\" + cmd);}\n",
    "    )\n",
    "    ;   \n",
    "}//coapPut\n",
    "\n",
    "forwardMsg = function( move ){\n",
    "    msg = \"msg(cmd,dispatch,py,basicrobot,cmd(\"+move+\"),1)\";\n",
    "    console.log(\"forwarqdMsg  forwardMsg= :\" , msg  );\n",
    "    coapPut(msg);\n",
    "}//forwardMsg\n",
    "\n",
    "// true sync solution\n",
    "const delay = (ms) => require(\"child_process\")\n",
    "    .execSync(`\"${process.argv[0]}\" -e setTimeout(function(){},${ms})`);\n",
    "\n",
    "\n"
   ]
  },
  {
   "cell_type": "code",
   "execution_count": null,
   "metadata": {},
   "outputs": [],
   "source": [
    "coapGet()"
   ]
  },
  {
   "cell_type": "code",
   "execution_count": null,
   "metadata": {},
   "outputs": [],
   "source": [
    "/*\n",
    "------------------------------------------------------------\n",
    "USE THE ROBOT\n",
    "------------------------------------------------------------\n",
    "*/\n",
    "const delay = (ms) => require(\"child_process\")\n",
    "    .execSync(`\"${process.argv[0]}\" -e setTimeout(function(){},${ms})`);\n",
    "forwardMsg(\"w\")\n",
    "//coapGet()\n",
    "delay(2)\n",
    "forwardMsg(\"h\")\n",
    "//coapGet()"
   ]
  },
  {
   "cell_type": "code",
   "execution_count": null,
   "metadata": {},
   "outputs": [],
   "source": [
    "var sleep = require('sleep'); \n",
    "console.log(\"start\");\n",
    "sleep.sleep(1);\n",
    "console.log(\"end\");"
   ]
  },
  {
   "cell_type": "code",
   "execution_count": null,
   "metadata": {},
   "outputs": [],
   "source": [
    "const sleep2 = (ms) => require(\"child_process\")\n",
    "    .execSync(`\"${process.argv[0]}\" -e setTimeout(function(){},${ms})`);\n",
    "console.log(\"start\");\n",
    "sleep2(1)\n",
    "console.log(\"end\");"
   ]
  },
  {
   "cell_type": "code",
   "execution_count": null,
   "metadata": {},
   "outputs": [],
   "source": [
    "/*\n",
    "See https://github.com/mcollina/node-coap#basic\n",
    "*/\n",
    "//const readline  = require('../../../it.unibo.qak20.sensors/resources/node_modules/readline-sync');\n",
    "  var coap        = require('../../it.unibo.qak20.sensors/resources/node_modules/coap')\n",
    "    /* \n",
    "  var server      = coap.createServer({ type: 'udp6' })\n",
    "\n",
    "  server.on('request', function(req, res) {\n",
    "    console.log(\"req.url=\"+req.url)\n",
    "  \tres.end('Hello ' + req.url.split('/')[1] + '\\n')\n",
    "  })\n",
    "  \n",
    "  \n",
    "  server.listen(  function() {\n",
    "  console.log(\"coap://[::1]/Matteo\")\n",
    "  //var req = coap.request('coap://localhost/Matteo')\n",
    "  var req = coap.request('coap://192.168.1.22:8037/ctxdcreceiver/dcreceiver')\n",
    "  req.on('response', function(res) {\n",
    "    res.pipe(process.stdout)\n",
    "    res.on('end', function() {\n",
    "    \tconsole.log(\"BYE\")\n",
    "        process.exit(0)\n",
    "    })\n",
    "  })\n",
    "  req.end()\n",
    "  })\n",
    "    */\n",
    "  console.log(\"done1\")\n"
   ]
  },
  {
   "cell_type": "code",
   "execution_count": 1,
   "metadata": {},
   "outputs": [
    {
     "name": "stdout",
     "output_type": "stream",
     "text": [
      "coap done\n"
     ]
    }
   ],
   "source": [
    "var coap        = require('../../it.unibo.qak20.sensors/resources/node_modules/coap')\n",
    "console.log(\"coap done\")"
   ]
  },
  {
   "cell_type": "code",
   "execution_count": null,
   "metadata": {},
   "outputs": [],
   "source": [
    "const readlineSync   = require('../../it.unibo.qak20.sensors/resources/node_modules/readline-sync');\n",
    "console.log(\"readlineSync \")"
   ]
  },
  {
   "cell_type": "code",
   "execution_count": null,
   "metadata": {},
   "outputs": [],
   "source": [
    "var userName = readlineSync .question('Who are you?' );"
   ]
  },
  {
   "cell_type": "code",
   "execution_count": 4,
   "metadata": {},
   "outputs": [
    {
     "name": "stdout",
     "output_type": "stream",
     "text": [
      "done2\n",
      "dcreceiver msg(cmd,dispatch,console,dcreceiver,cmd(w),28)"
     ]
    }
   ],
   "source": [
    "  var req = coap.request('coap://192.168.1.22:8037/ctxdcreceiver/dcreceiver' )\n",
    "  \n",
    "  req.on('response', function(res) {\n",
    "    res.pipe( process.stdout )\n",
    "  })\n",
    " \n",
    "  req.end()\n",
    " \n",
    " console.log(\"done2\")"
   ]
  },
  {
   "cell_type": "code",
   "execution_count": null,
   "metadata": {},
   "outputs": [],
   "source": [
    "var req1 = coap.request('coap://192.168.1.22:8037/ctxdcreceiver/dcreceiver', {observe:true} )\n",
    "  \n",
    "  req1.on('response', function(res) {\n",
    "    res.pipe( process.stdout )\n",
    "  })\n",
    " \n",
    "  req1.end()\n",
    " \n",
    " console.log(\"done3\")"
   ]
  },
  {
   "cell_type": "code",
   "execution_count": null,
   "metadata": {},
   "outputs": [],
   "source": []
  }
 ],
 "metadata": {
  "kernelspec": {
   "display_name": "Javascript (Node.js)",
   "language": "javascript",
   "name": "javascript"
  },
  "language_info": {
   "file_extension": ".js",
   "mimetype": "application/javascript",
   "name": "javascript",
   "version": "6.11.1"
  }
 },
 "nbformat": 4,
 "nbformat_minor": 4
}
