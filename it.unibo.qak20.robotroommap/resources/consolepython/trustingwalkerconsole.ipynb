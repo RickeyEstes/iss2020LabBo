{
 "cells": [
  {
   "cell_type": "markdown",
   "metadata": {},
   "source": [
    "## Command console for the trustingwalker"
   ]
  },
  {
   "cell_type": "code",
   "execution_count": null,
   "metadata": {},
   "outputs": [
    {
     "name": "stdout",
     "output_type": "stream",
     "text": [
      "connected to broker  localhost\n",
      "subscribing to unibo/polar\n",
      "starting the client loop to receive sonar data\n",
      "console  STARTS :\n",
      "5,3\n",
      "requestMovecell done: msg(movetoCell,request,py,trustingwalker,movetoCell(5,3),1)\n",
      "received message = msg(polar,event,envsonarhandler,none,polar(30,180),757)\n",
      "received message = msg(obstacle,event,basicrobot,none,obstacle(unknown),809)\n",
      "received message = msg(polar,event,basicrobot,none,polar(10,90),810)\n",
      "received message = msg(polar,event,envsonarhandler,none,polar(30,180),815)\n",
      "received message = msg(obstacle,event,basicrobot,none,obstacle(unknown),846)\n",
      "received message = msg(polar,event,basicrobot,none,polar(10,90),847)\n",
      "received message = msg(obstacle,event,basicrobot,none,obstacle(unknown),909)\n",
      "received message = msg(polar,event,basicrobot,none,polar(10,90),910)\n",
      "received message = msg(polar,event,envsonarhandler,none,polar(14,180),923)\n",
      "received message = msg(polar,event,envsonarhandler,none,polar(13,180),931)\n",
      "received message = msg(polar,event,envsonarhandler,none,polar(10,180),938)\n",
      "received message = msg(polar,event,envsonarhandler,none,polar(10,180),940)\n",
      "received message = msg(polar,event,envsonarhandler,none,polar(6,180),958)\n",
      "received message = msg(polar,event,envsonarhandler,none,polar(6,180),965)\n",
      "received message = msg(polar,event,envsonarhandler,none,polar(6,180),967)\n",
      "received message = msg(polar,event,envsonarhandler,none,polar(6,180),999)\n",
      "5,3\n",
      "requestMovecell done: msg(movetoCell,request,py,trustingwalker,movetoCell(5,3),1)\n",
      "received message = msg(polar,event,envsonarhandler,none,polar(30,180),1043)\n",
      "3,3\n",
      "requestMovecell done: msg(movetoCell,request,py,trustingwalker,movetoCell(3,3),1)\n",
      "0,2\n",
      "requestMovecell done: msg(movetoCell,request,py,trustingwalker,movetoCell(0,2),1)\n",
      "0,0\n",
      "requestMovecell done: msg(movetoCell,request,py,trustingwalker,movetoCell(0,0),1)\n",
      "received message = msg(polar,event,envsonarhandler,none,polar(30,180),1164)\n"
     ]
    }
   ],
   "source": [
    "##############################################################\n",
    "# trustingwalkerconsole.py\n",
    "# ACTIVATE it.unibo.qak20.robotroommap\\src\\it\\unibo\\ctxtrustingwalker\\MainCtxtrustingwalker.kt\n",
    "##############################################################\n",
    "\n",
    "import paho.mqtt.client as paho\n",
    "\n",
    "### brokerAddr =\"broker.hiqvemq.com\"\n",
    "brokerAddr =\"localhost\"\n",
    "\n",
    "#define callback\n",
    "def on_message(client, userdata, message):\n",
    "    print(\"received message =\",str(message.payload.decode(\"utf-8\")))\n",
    "\n",
    "def requestMovecell( x,y ):\n",
    "    msg = \"msg(movetoCell,request,py,trustingwalker,movetoCell(\"+x+\",\"+y+\"),1)\"\n",
    "    client.publish(\"unibo/qak/trustingwalker\",msg) \n",
    "    print(\"requestMovecell done:\" , msg  )\n",
    "\n",
    "def console() :  \n",
    "    print(\"console  STARTS :\"   )\n",
    "    cmd =  str( input() )\n",
    "    while( cmd != \"q\"  ) :\n",
    "        values = cmd.split(\",\")  ## [\"6\",\"3\"]\n",
    "        ## print( values[0] )\n",
    "        requestMovecell( values[0],values[1] )\n",
    "        cmd = str(input() )             \n",
    "\n",
    "##################################################################\n",
    "\n",
    "client= paho.Client(\"pyconsole\")  \n",
    "client.on_message=on_message            # Bind function to callback    \n",
    "\n",
    "client.connect(brokerAddr)              #connect\n",
    "print(\"connected to broker \", brokerAddr)\n",
    "\n",
    "print(\"subscribing to unibo/polar\")\n",
    "client.subscribe(\"unibo/polar\")      #subscribe\n",
    "\n",
    "print(\"starting the client loop to receive sonar data\" )\n",
    "client.loop_start()                  #start loop to process received messages\n",
    " \n",
    "console()"
   ]
  },
  {
   "cell_type": "code",
   "execution_count": null,
   "metadata": {},
   "outputs": [],
   "source": []
  }
 ],
 "metadata": {
  "kernelspec": {
   "display_name": "Python 3",
   "language": "python",
   "name": "python3"
  },
  "language_info": {
   "codemirror_mode": {
    "name": "ipython",
    "version": 3
   },
   "file_extension": ".py",
   "mimetype": "text/x-python",
   "name": "python",
   "nbconvert_exporter": "python",
   "pygments_lexer": "ipython3",
   "version": "3.7.3"
  }
 },
 "nbformat": 4,
 "nbformat_minor": 2
}
