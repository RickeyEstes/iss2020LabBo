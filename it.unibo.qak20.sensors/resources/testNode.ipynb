{
 "cells": [
  {
   "cell_type": "code",
   "execution_count": null,
   "metadata": {},
   "outputs": [],
   "source": [
    "var x = { a:1, b:'two', c: true };\n",
    "var msg = [\"Hello\", \"World again!\"].join(\", \");\n",
    "console.log(msg);"
   ]
  },
  {
   "cell_type": "code",
   "execution_count": null,
   "metadata": {},
   "outputs": [],
   "source": [
    "/** naiveFib calculates Fibonacci number in a naive way */\n",
    "function naiveFib( n )  {\n",
    "    if (n > 1) {\n",
    "        return naiveFib(n - 1) + naiveFib(n - 2);\n",
    "    }\n",
    "    return 1;\n",
    "}\n",
    " \n",
    "    // This is 40x slower if you use Python.\n",
    "    const v = 35;\n",
    "    const start = Date.now()\n",
    "    console.log(`naiveFib(${v}) = ${naiveFib(v)} (took ${Date.now() - start}ms)`)\n",
    " "
   ]
  },
  {
   "cell_type": "code",
   "execution_count": null,
   "metadata": {},
   "outputs": [],
   "source": []
  },
  {
   "cell_type": "code",
   "execution_count": null,
   "metadata": {},
   "outputs": [],
   "source": []
  }
 ],
 "metadata": {
  "kernelspec": {
   "display_name": "Python 3",
   "language": "python",
   "name": "python3"
  },
  "language_info": {
   "codemirror_mode": {
    "name": "ipython",
    "version": 3
   },
   "file_extension": ".py",
   "mimetype": "text/x-python",
   "name": "python",
   "nbconvert_exporter": "python",
   "pygments_lexer": "ipython3",
   "version": "3.7.3"
  }
 },
 "nbformat": 4,
 "nbformat_minor": 4
}
