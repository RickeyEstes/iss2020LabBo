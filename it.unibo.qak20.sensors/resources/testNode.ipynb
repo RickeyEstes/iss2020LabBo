{
 "cells": [
  {
   "cell_type": "code",
   "execution_count": null,
   "metadata": {},
   "outputs": [],
   "source": [
    "var x = { a:1, b:'two', c: true };\n",
    "var msg = [\"Hello\", \"World again!\"].join(\", \");\n",
    "console.log(msg);"
   ]
  },
  {
   "cell_type": "code",
   "execution_count": null,
   "metadata": {},
   "outputs": [],
   "source": [
    "/** naiveFib calculates Fibonacci number in a naive way */\n",
    "function naiveFib( n )  {\n",
    "    if (n > 1) {\n",
    "        return naiveFib(n - 1) + naiveFib(n - 2);\n",
    "    }\n",
    "    return 1;\n",
    "}\n",
    " \n",
    "    // This is 40x slower if you use Python.\n",
    "    const v = 35;\n",
    "    const start = Date.now()\n",
    "    console.log(`naiveFib(${v}) = ${naiveFib(v)} (took ${Date.now() - start}ms)`)\n",
    " "
   ]
  },
  {
   "cell_type": "code",
   "execution_count": null,
   "metadata": {},
   "outputs": [],
   "source": []
  },
  {
   "cell_type": "code",
   "execution_count": null,
   "metadata": {},
   "outputs": [],
   "source": []
  }
 ],
 "metadata": {
  "kernelspec": {
   "display_name": "Javascript (Node.js)",
   "language": "javascript",
   "name": "javascript"
  },
  "language_info": {
   "file_extension": ".js",
   "mimetype": "application/javascript",
   "name": "javascript",
   "version": "8.12.0"
  }
 },
 "nbformat": 4,
 "nbformat_minor": 4
}
