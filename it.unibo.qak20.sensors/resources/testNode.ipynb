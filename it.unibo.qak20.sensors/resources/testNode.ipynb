{
 "cells": [
  {
   "cell_type": "code",
   "execution_count": null,
   "metadata": {},
   "outputs": [],
   "source": [
    "var x = { a:1, b:'two', c: true };\n",
    "var msg = [\"Hello\", \"World again!\"].join(\", \");\n",
    "console.log(msg);"
   ]
  },
  {
   "cell_type": "code",
   "execution_count": null,
   "metadata": {},
   "outputs": [],
   "source": [
    "/** naiveFib calculates Fibonacci number in a naive way */\n",
    "function naiveFib( n )  {\n",
    "    if (n > 1) {\n",
    "        return naiveFib(n - 1) + naiveFib(n - 2);\n",
    "    }\n",
    "    return 1;\n",
    "}\n",
    " \n",
    "    // This is 40x slower if you use Python.\n",
    "    const v = 35;\n",
    "    const start = Date.now()\n",
    "    console.log(`naiveFib(${v}) = ${naiveFib(v)} (took ${Date.now() - start}ms)`)\n",
    " "
   ]
  },
  {
   "cell_type": "code",
   "execution_count": null,
   "metadata": {},
   "outputs": [],
   "source": [
    "var data = [];\n",
    "for (var i = 0; i < 1000; i++) {\n",
    "    var x = 2*Math.PI * i/ 360;\n",
    "    var obj = {\n",
    "      x: x,\n",
    "      i: i,\n",
    "      sin: Math.sin(x),\n",
    "      cos: Math.cos(x),\n",
    "      tan: Math.tan(x)\n",
    "    };\n",
    "    data.push(obj);\n",
    "}\n",
    "//display(data); //is is defined by python"
   ]
  },
  {
   "cell_type": "code",
   "execution_count": 1,
   "metadata": {},
   "outputs": [
    {
     "data": {
      "text/plain": [
       "[Function: coapGet]"
      ]
     },
     "execution_count": 1,
     "metadata": {},
     "output_type": "execute_result"
    }
   ],
   "source": [
    "const coap            = require(\"C:/Didattica2018Work/iss2020LabBo/it.unibo.qak20.sensors/resources/node_modules/node-coap-client\").CoapClient; \n",
    "var coapAddr          = \"coap://localhost:8020\"\n",
    "var coapResourceAddr  = coapAddr + \"/ctxbasicrobot/basicrobot\"\n",
    "\n",
    "setcoapAddr = function( addr ){\n",
    "    coapResourceAddr = addr;\n",
    "    console.log(\"coap | coapResourceAddr=\" + coapResourceAddr);\n",
    "    createCoapClient( coapResourceAddr   );\n",
    "}\n",
    "\n",
    "coapGet = function (  ){\n",
    "    console.log(\"coapGet \" + coapResourceAddr)\n",
    "    coap.request(\n",
    "             coapResourceAddr,\n",
    "            \"get\"  \n",
    "    )\n",
    "    .then(response => { console.log(\"coap get done> \" + response.payload );}  )\n",
    "    .catch(err => { console.log(\"coap get error> \" + err );}                  )\n",
    "    ;   \n",
    "}\n"
   ]
  },
  {
   "cell_type": "code",
   "execution_count": 2,
   "metadata": {},
   "outputs": [
    {
     "name": "stdout",
     "output_type": "stream",
     "text": [
      "GET coap://localhost:8020/ctxbasicrobot/basicrobot\n",
      "coapGet coap://localhost:8020/ctxbasicrobot/basicrobot\n",
      "coap get done> movedone(r)\n"
     ]
    }
   ],
   "source": [
    "console.log( \"GET \" + coapResourceAddr ) \n",
    "coapGet()"
   ]
  },
  {
   "cell_type": "code",
   "execution_count": null,
   "metadata": {},
   "outputs": [],
   "source": []
  }
 ],
 "metadata": {
  "kernelspec": {
   "display_name": "Javascript (Node.js)",
   "language": "javascript",
   "name": "javascript"
  },
  "language_info": {
   "file_extension": ".js",
   "mimetype": "application/javascript",
   "name": "javascript",
   "version": "8.12.0"
  }
 },
 "nbformat": 4,
 "nbformat_minor": 4
}
