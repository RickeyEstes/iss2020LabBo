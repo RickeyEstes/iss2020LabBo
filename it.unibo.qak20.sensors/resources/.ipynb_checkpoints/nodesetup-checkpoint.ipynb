{
 "cells": [
  {
   "cell_type": "code",
   "execution_count": null,
   "metadata": {},
   "outputs": [],
   "source": [
    "PixieDust extension that enable a Jupyter Notebook user to invoke Node.js commands.\n",
    "https://github.com/pixiedust/pixiedust_node\n",
    "https://medium.com/codait/nodebooks-node-js-data-science-notebooks-aa140bea21ba\n",
    "    \n",
    "    \n",
    "To install the nodejs kernel\n",
    "npm install -g ijavascript\n",
    "ijsinstall\n"
   ]
  },
  {
   "cell_type": "markdown",
   "metadata": {},
   "source": [
    "!pip install pixiedust\n",
    "!pip install pixiedust_node"
   ]
  },
  {
   "cell_type": "code",
   "execution_count": null,
   "metadata": {},
   "outputs": [],
   "source": []
  },
  {
   "cell_type": "code",
   "execution_count": 2,
   "metadata": {},
   "outputs": [
    {
     "name": "stdout",
     "output_type": "stream",
     "text": [
      "Pixiedust database opened successfully\n"
     ]
    },
    {
     "data": {
      "text/html": [
       "\n",
       "        <div style=\"margin:10px\">\n",
       "            <a href=\"https://github.com/ibm-watson-data-lab/pixiedust\" target=\"_new\">\n",
       "                <img src=\"https://github.com/ibm-watson-data-lab/pixiedust/raw/master/docs/_static/pd_icon32.png\" style=\"float:left;margin-right:10px\"/>\n",
       "            </a>\n",
       "            <span>Pixiedust version 1.1.18</span>\n",
       "        </div>\n",
       "        "
      ],
      "text/plain": [
       "<IPython.core.display.HTML object>"
      ]
     },
     "metadata": {},
     "output_type": "display_data"
    },
    {
     "data": {
      "text/html": [
       "\n",
       "            <div style=\"margin:10px\"> \n",
       "            <a href=\"https://github.com/ibm-cds-labs/pixiedust_node\" target=\"_new\"> \n",
       "            <img src=\"https://github.com/ibm-cds-labs/pixiedust_node/raw/master/docs/_images/pdn_icon32.png\" style=\"float:left;margin-right:10px\"/> \n",
       "            </a> \n",
       "            <span>Pixiedust Node.js</span> \n",
       "            </div> \n"
      ],
      "text/plain": [
       "<IPython.core.display.HTML object>"
      ]
     },
     "metadata": {},
     "output_type": "display_data"
    }
   ],
   "source": [
    "import pixiedust_node"
   ]
  },
  {
   "cell_type": "code",
   "execution_count": 2,
   "metadata": {},
   "outputs": [
    {
     "name": "stdout",
     "output_type": "stream",
     "text": [
      "\"2020-06-07T16:06:00.309Z\"\n"
     ]
    }
   ],
   "source": [
    "%%node\n",
    "print(new Date());"
   ]
  },
  {
   "cell_type": "code",
   "execution_count": 3,
   "metadata": {},
   "outputs": [
    {
     "data": {
      "text/html": [
       "Sales are up <b>25%</b>"
      ],
      "text/plain": [
       "<IPython.core.display.HTML object>"
      ]
     },
     "metadata": {},
     "output_type": "display_data"
    }
   ],
   "source": [
    "%%node\n",
    "var str = 'Sales are up <b>25%</b>';\n",
    "html(str)"
   ]
  },
  {
   "cell_type": "code",
   "execution_count": 10,
   "metadata": {
    "pixiedust": {
     "displayParams": {
      "chartsize": "97",
      "handlerId": "scatterPlot",
      "keyFields": "x",
      "mpld3": "false",
      "valueFields": "sin"
     }
    }
   },
   "outputs": [
    {
     "data": {
      "text/html": [
       "<style type=\"text/css\">.pd_warning{display:none;}</style><div class=\"pd_warning\"><em>Hey, there's something awesome here! To see it, open this notebook outside GitHub, in a viewer like Jupyter</em></div>\n",
       "        <div class=\"pd_save is-viewer-good\" style=\"padding-right:10px;text-align: center;line-height:initial !important;font-size: xx-large;font-weight: 500;color: coral;\">\n",
       "            \n",
       "        </div>\n",
       "    <div class=\"pd_save is-viewer-good\" id=\"chartFigured21697c5\" style=\"overflow-x:auto\">\n",
       "            \n",
       "                    \n",
       "                            <center><img class=\"pd_save\" style=\"max-width:initial !important\" src=\"data:image/png;base64,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\"></center>\n",
       "                        \n",
       "                    \n",
       "                \n",
       "        </div>"
      ],
      "text/plain": [
       "<IPython.core.display.HTML object>"
      ]
     },
     "metadata": {},
     "output_type": "display_data"
    }
   ],
   "source": [
    "%%node\n",
    "var data = [];\n",
    "for (var i = 0; i < 1000; i++) {\n",
    "    var x = 2*Math.PI * i/ 360;\n",
    "    var obj = {\n",
    "      x: x,\n",
    "      i: i,\n",
    "      sin: Math.sin(x),\n",
    "      cos: Math.cos(x),\n",
    "      tan: Math.tan(x)\n",
    "    };\n",
    "    data.push(obj);\n",
    "}\n",
    "display(data); //PixieDust’s display function"
   ]
  },
  {
   "cell_type": "code",
   "execution_count": 2,
   "metadata": {},
   "outputs": [
    {
     "name": "stdout",
     "output_type": "stream",
     "text": [
      "1346269\n",
      "time0.90625\n"
     ]
    }
   ],
   "source": [
    "import time\n",
    "def naiveFib( n ) :\n",
    "    if n<=1 : \n",
    "        return 1\n",
    "    else :\n",
    "        return naiveFib( n-1 ) + naiveFib( n - 2 )\n",
    "\n",
    "n = 35\n",
    "t = time.process_time()\n",
    "print( str(naiveFib(n)))\n",
    "elapsed_time = time.process_time() - t\n",
    "print( \"time\" + str(elapsed_time))"
   ]
  },
  {
   "cell_type": "code",
   "execution_count": null,
   "metadata": {},
   "outputs": [],
   "source": []
  }
 ],
 "metadata": {
  "kernelspec": {
   "display_name": "Python 3",
   "language": "python",
   "name": "python3"
  },
  "language_info": {
   "codemirror_mode": {
    "name": "ipython",
    "version": 3
   },
   "file_extension": ".py",
   "mimetype": "text/x-python",
   "name": "python",
   "nbconvert_exporter": "python",
   "pygments_lexer": "ipython3",
   "version": "3.7.3"
  }
 },
 "nbformat": 4,
 "nbformat_minor": 4
}
