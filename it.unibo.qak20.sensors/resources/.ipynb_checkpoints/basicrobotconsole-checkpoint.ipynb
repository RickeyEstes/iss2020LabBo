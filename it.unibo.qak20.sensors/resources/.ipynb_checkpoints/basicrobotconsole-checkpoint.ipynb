{
 "cells": [
  {
   "cell_type": "markdown",
   "metadata": {},
   "source": [
    "# Command console for the basicrobot"
   ]
  },
  {
   "cell_type": "code",
   "execution_count": null,
   "metadata": {},
   "outputs": [],
   "source": [
    "### ACTIVATE THE basicrobot\n",
    "%cd C:\\Didattica2018Run\\it.unibo.qak20.basicrobot-1.0\\bin\n",
    "!ls\n",
    "! it.unibo.qak20.basicrobot.bat"
   ]
  },
  {
   "cell_type": "code",
   "execution_count": 5,
   "metadata": {},
   "outputs": [
    {
     "name": "stdout",
     "output_type": "stream",
     "text": [
      "connected to broker  localhost\n",
      "subscribing to unibo/polar\n",
      "starting the client loop to receive sonar data\n",
      "console  STARTS :\n",
      "l\n",
      "forwardMsg  forwardMsg= : msg(cmd,dispatch,py,basicrobot,cmd(l),1)\n",
      "r\n",
      "forwardMsg  forwardMsg= : msg(cmd,dispatch,py,basicrobot,cmd(r),1)\n",
      "q\n"
     ]
    }
   ],
   "source": [
    "##############################################################\n",
    "# basicrobotconsole.py\n",
    "##############################################################\n",
    "import paho.mqtt.client as paho\n",
    "\n",
    "### brokerAddr =\"broker.hivemq.com\"\n",
    "brokerAddr =\"localhost\"\n",
    "\n",
    "#define callback\n",
    "def on_message(client, userdata, message):\n",
    "    print(\"received message =\",str(message.payload.decode(\"utf-8\")))\n",
    "\n",
    "def requestStep(  ):\n",
    "    msg = \"msg(step,request,py,basicrobot,step(350),1)\"\n",
    "    ##print(\"requestMsg  requestMsg= :\" , msg  )\n",
    "    client.publish(\"unibo/qak/basicrobot\",msg) \n",
    "\n",
    "def forwardMsg( move ):\n",
    "    msg = \"msg(cmd,dispatch,py,basicrobot,cmd(\"+str(move)+\"),1)\"\n",
    "    print(\"forwardMsg  forwardMsg= :\" , msg  )\n",
    "    client.publish(\"unibo/qak/basicrobot\",msg) \n",
    "\n",
    "def console() :  \n",
    "    print(\"console  STARTS :\"   )\n",
    "    cmd =  str( input() )\n",
    "    while( cmd != \"q\"  ) :\n",
    "        #print( cmd )\n",
    "        if( cmd == \"p\" ) :\n",
    "            requestStep()\n",
    "        else :\n",
    "            forwardMsg( cmd )\n",
    "        cmd = str(input() )\n",
    "##################################################################\n",
    "\n",
    "client= paho.Client(\"basicrobotconsole\")  \n",
    "client.on_message=on_message            # Bind function to callback    \n",
    "\n",
    "client.connect(brokerAddr)              #connect\n",
    "print(\"connected to broker \", brokerAddr)\n",
    "\n",
    "print(\"subscribing to unibo/polar\")\n",
    "client.subscribe(\"unibo/polar\")      #subscribe\n",
    "\n",
    "print(\"starting the client loop to receive sonar data\" )\n",
    "client.loop_start()                  #start loop to process received messages\n",
    " \n",
    "console() "
   ]
  },
  {
   "cell_type": "code",
   "execution_count": 1,
   "metadata": {},
   "outputs": [
    {
     "name": "stdout",
     "output_type": "stream",
     "text": [
      "Pixiedust database opened successfully\n"
     ]
    },
    {
     "data": {
      "text/html": [
       "\n",
       "        <div style=\"margin:10px\">\n",
       "            <a href=\"https://github.com/ibm-watson-data-lab/pixiedust\" target=\"_new\">\n",
       "                <img src=\"https://github.com/ibm-watson-data-lab/pixiedust/raw/master/docs/_static/pd_icon32.png\" style=\"float:left;margin-right:10px\"/>\n",
       "            </a>\n",
       "            <span>Pixiedust version 1.1.18</span>\n",
       "        </div>\n",
       "        "
      ],
      "text/plain": [
       "<IPython.core.display.HTML object>"
      ]
     },
     "metadata": {},
     "output_type": "display_data"
    },
    {
     "data": {
      "text/html": [
       "\n",
       "            <div style=\"margin:10px\"> \n",
       "            <a href=\"https://github.com/ibm-cds-labs/pixiedust_node\" target=\"_new\"> \n",
       "            <img src=\"https://github.com/ibm-cds-labs/pixiedust_node/raw/master/docs/_images/pdn_icon32.png\" style=\"float:left;margin-right:10px\"/> \n",
       "            </a> \n",
       "            <span>Pixiedust Node.js</span> \n",
       "            </div> \n"
      ],
      "text/plain": [
       "<IPython.core.display.HTML object>"
      ]
     },
     "metadata": {},
     "output_type": "display_data"
    },
    {
     "name": "stdout",
     "output_type": "stream",
     "text": [
      "pixiedust_node 0.2.5 started. Cells starting '%%node' may contain Node.js code.\n"
     ]
    }
   ],
   "source": [
    "import pixiedust_node"
   ]
  },
  {
   "cell_type": "code",
   "execution_count": 2,
   "metadata": {},
   "outputs": [
    {
     "name": "stdout",
     "output_type": "stream",
     "text": [
      "... ... ... ...\n",
      "GET coap://localhost:5683/ctxbasicrobot/basicrobot\n"
     ]
    }
   ],
   "source": [
    "%%node\n",
    "const coap            = require(\"C:/Didattica2018Work/iss2020LabBo/it.unibo.qak20.sensors/resources/node_modules/node-coap-client\").CoapClient; \n",
    "var coapAddr          = \"coap://localhost:5683\"\n",
    "var coapResourceAddr  = coapAddr + \"/ctxbasicrobot/basicrobot\"\n",
    "\n",
    "setcoapAddr = function( addr ){\n",
    "    coapResourceAddr = addr;\n",
    "    console.log(\"coap | coapResourceAddr=\" + coapResourceAddr);\n",
    "    createCoapClient( coapResourceAddr   );\n",
    "}\n",
    " \n",
    "console.log( \"GET \" + coapResourceAddr ) "
   ]
  },
  {
   "cell_type": "code",
   "execution_count": 3,
   "metadata": {},
   "outputs": [
    {
     "name": "stdout",
     "output_type": "stream",
     "text": [
      "... ..... ..... ..... ... ..... ..... ... ..... ..... ... ...\n"
     ]
    }
   ],
   "source": [
    "%%node\n",
    "coapGet = function (  ){\n",
    "    console.log(\"coapGet \" + coapResourceAddr)\n",
    "    coap.request(\n",
    "             coapResourceAddr,\n",
    "            \"get\"  \n",
    "    )\n",
    "    .then(response => { console.log(\"coap get done> \" + response.payload );}  )\n",
    "    .catch(err => { console.log(\"coap get error> \" + err );}                  )\n",
    "    ;   \n",
    "}\n",
    "\n",
    " "
   ]
  },
  {
   "cell_type": "code",
   "execution_count": 4,
   "metadata": {},
   "outputs": [
    {
     "name": "stdout",
     "output_type": "stream",
     "text": [
      "coap get error> TypeError: url_1.URL is not a constructor\n"
     ]
    }
   ],
   "source": [
    "%%node\n",
    "coapGet()"
   ]
  },
  {
   "cell_type": "code",
   "execution_count": null,
   "metadata": {},
   "outputs": [],
   "source": [
    "%%node\n",
    "\n",
    "function createCoapClient( resourceAddr ){\n",
    "console.log(\"coapClientToResourceModel | createCoapClient \"  );\n",
    "coap\n",
    "    .observe(\n",
    "        resourceAddr /* string */,\n",
    "        \"get\" /* \"get\" | \"post\" | \"put\" | \"delete\" */,\n",
    "     )\n",
    "    .then(() => { console.log(\"coapClientToResourceModel | observe setup \" ); /* observing was successfully set up */})\n",
    "    .catch(err => { console.log(\"coapClientToResourceModel | observe error \" + err )  /* handle error */ })\n",
    "    \n",
    "}\n",
    "\n",
    "function setcoapAddr( addr ){\n",
    "    coapResourceAddr = addr;\n",
    "    console.log(\"coap | coapResourceAddr=\" + coapResourceAddr);\n",
    "    createCoapClient( coapResourceAddr   );\n",
    "}\n",
    "\n",
    "//setcoapAddr(coapResourceAddr)\n",
    "\n",
    "console.log(\"hello \"  )"
   ]
  },
  {
   "cell_type": "code",
   "execution_count": null,
   "metadata": {},
   "outputs": [],
   "source": [
    "%%node\n",
    "\n",
    "/*\n",
    "frontend/uniboSupports/coapClientToResourceModel\n",
    "*/\n",
    "\n",
    "//const handle           = require('./qakeventHandler');  \n",
    "const coap             = require(\"C:/Didattica2018Work/iss2020LabBo/it.unibo.qak20.sensors/resources/node_modules/node-coap-client\").CoapClient; \n",
    "var coapAddr             = \"coap://localhost:5683\"\n",
    "var coapResourceAddr   \t = coapAddr + \"/ctxbasicrobot/basicrobot\"\n",
    "//var sensorResourceAddr   = coapAddr + \"/robot/sonar\"\n",
    "/*\n",
    "coap\n",
    "    .tryToConnect( coapAddr )\n",
    "    .then((result ) => { //  true or error code or Error instance  \n",
    "        console.log(\"coap | connection done\"); // do something with the result  \n",
    "    })\n",
    "    ;\n",
    "*/\n",
    "/* -------------------------------------------\n",
    "function handeData( response ){\n",
    "\tconsole.log(\"\t\tcoapClientToResourceModel | handeData \" + response.payload);\n",
    "}\n",
    "*/\n",
    "\n",
    "function createCoapClient( resourceAddr ){\n",
    "console.log(\"\t\tcoapClientToResourceModel | createCoapClient \"  );\n",
    "coap\n",
    "    .observe(\n",
    "        resourceAddr /* string */,\n",
    "        \"get\" /* \"get\" | \"post\" | \"put\" | \"delete\" */,\n",
    "        //handle.handeData //handeData /* function */\n",
    "        //[payload /* Buffer */,]\n",
    "        //[options /* RequestOptions */]\n",
    "    )\n",
    "    .then(() => { console.log(\"\t\tcoapClientToResourceModel | observe setup \" ); /* observing was successfully set up */})\n",
    "    .catch(err => { console.log(\"\t\tcoapClientToResourceModel | observe error \" + err )  /* handle error */ })\n",
    "    ;\n",
    "}\n",
    "\n",
    " \n",
    "exports.setcoapAddr = function ( addr ){\n",
    "\tcoapResourceAddr = addr\n",
    "\tconsole.log(\"coap | coapResourceAddr=\" + coapResourceAddr);\n",
    "\tcreateCoapClient( coapResourceAddr   );\n",
    "\t//createCoapClient( sensorResourceAddr );\n",
    "}\n",
    "\n",
    "exports.coapGet = function (  ){\n",
    "\tcoap\n",
    "\t    .request(\n",
    "\t         coapResourceAddr,\n",
    "\t        \"get\" /* \"get\" | \"post\" | \"put\" | \"delete\" */\n",
    " \t        //[payload /* Buffer */,\n",
    "\t        //[options /* RequestOptions */]]\n",
    "\t    )\n",
    "\t    .then(response => { \t\t\t/* handle response */\n",
    "\t    \tconsole.log(\"coap get done> \" + response.payload );}\n",
    "\t     )\n",
    "\t    .catch(err => { /* handle error */ \n",
    "\t    \tconsole.log(\"coap get error> \" + err );}\n",
    "\t    )\n",
    "\t    ;\n",
    "\t    \n",
    "}//coapPut\n",
    "\n",
    "exports.coapPut = function (  cmd ){ \n",
    "console.log(\"PUT \" + coapResourceAddr);\n",
    "\tcoap\n",
    "\t    .request(\n",
    "\t        coapResourceAddr,     \n",
    "\t        \"put\" ,\t\t\t                          // \"get\" | \"post\" | \"put\" | \"delete\"   \n",
    "\t        new Buffer(cmd )                          // payload Buffer \n",
    " \t        //[options]]\t\t\t\t\t\t\t//  RequestOptions \n",
    "\t    )\n",
    "\t    .then(response => { \t\t\t// handle response  \n",
    "\t    \tconsole.log(\"coap put done> \" + cmd + \" \" + response);} \n",
    "\t     )\n",
    "\t    .catch(err => { // handle error  \n",
    "\t    \tconsole.log(\"coap | put error> \" + err + \" for cmd=\" + cmd);}\n",
    "\t    )\n",
    "\t    ;\n",
    "\t    \n",
    "}//coapPut\n",
    "\n",
    "//const myself   = require('./coapClientToResourceModel');\n",
    "\n",
    "function test(){\n",
    " \tconsole.log(\"GET\");\n",
    "  \t//myself.coapGet();\n",
    " \t//console.log(\"PUT\");\n",
    " \t//myself.coapPut(\"r\")\n",
    " \t//myself.coapGet();\n",
    "}"
   ]
  },
  {
   "cell_type": "code",
   "execution_count": null,
   "metadata": {},
   "outputs": [],
   "source": []
  }
 ],
 "metadata": {
  "kernelspec": {
   "display_name": "Python 3",
   "language": "python",
   "name": "python3"
  },
  "language_info": {
   "codemirror_mode": {
    "name": "ipython",
    "version": 3
   },
   "file_extension": ".py",
   "mimetype": "text/x-python",
   "name": "python",
   "nbconvert_exporter": "python",
   "pygments_lexer": "ipython3",
   "version": "3.7.3"
  }
 },
 "nbformat": 4,
 "nbformat_minor": 2
}
