{
 "cells": [
  {
   "cell_type": "markdown",
   "metadata": {},
   "source": [
    "# Coap console for the basicrobot using the Nodejs Kernel\n",
    "\n",
    "Send commands by using the coap path <b>ctxbasicrobot/basicrobot</b>"
   ]
  },
  {
   "cell_type": "code",
   "execution_count": null,
   "metadata": {},
   "outputs": [],
   "source": [
    "/*\n",
    "------------------------------------------------------------\n",
    "DECLARE BASIC VARIABLES AND FUNCTIONS (just once ...)\n",
    "------------------------------------------------------------\n",
    "*/\n",
    "const coap            = require(\"./node_modules/node-coap-client\").CoapClient; \n",
    "var coapResourceAddr  = \"coap://localhost:8020/ctxbasicrobot/basicrobot\";\n",
    "\n",
    "coapGet = function ( ){\n",
    "    console.log(\"coapGet \" + coapResourceAddr);\n",
    "    coap.request(\n",
    "             coapResourceAddr,\n",
    "             'get' )\n",
    "    .then(response => { console.log(\"coap get done> \" + response.payload );}  )\n",
    "    .catch(err => { console.log(\"coap get error> \" + err );}                  )\n",
    "    ;   \n",
    "}\n",
    "\n",
    "coapPut = function ( cmd ){ \n",
    "console.log(\"PUT \" + coapResourceAddr);\n",
    "coap.request(\n",
    "    coapResourceAddr,     \n",
    "    \"put\" ,  \n",
    "    new Buffer(cmd )         // payload Buffer \n",
    "    //[options]]             //  RequestOptions \n",
    "    )\n",
    "    .then(response => { console.log(\"coap put done> \" + cmd + \" \" + response);} )\n",
    "    .catch(err => { console.log(\"coap | put error> \" + err + \" for cmd=\" + cmd);}\n",
    "    )\n",
    "    ;   \n",
    "}//coapPut\n",
    "\n",
    "handeData = function( response ){\n",
    "    console.log(\"observed: \" + response.payload);\n",
    "}//handeData\n",
    "\n",
    "createCoapObserver = function( ){\n",
    "console.log(\"createCoapClient \"  );\n",
    "coap.observe(\n",
    "        coapResourceAddr,\n",
    "        \"get\",\n",
    "        handeData\n",
    "     )\n",
    "    .then( () => { console.log(\"observing ...  \" ); })\n",
    "    .catch(err => { console.log(\"observing error \" + err );  });\n",
    "}//createCoapObserver\n",
    "\n",
    "forwardMsg = function( move ){\n",
    "    msg = \"msg(cmd,dispatch,py,basicrobot,cmd(\"+move+\"),1)\";\n",
    "    console.log(\"forwarqdMsg  forwardMsg= :\" , msg  );\n",
    "    coapPut(msg);\n",
    "}//forwardMsg\n",
    "\n",
    "// true sync solution\n",
    "const delay = (ms) => require(\"child_process\")\n",
    "    .execSync(`\"${process.argv[0]}\" -e setTimeout(function(){},${ms})`);\n",
    "\n",
    "//OPTIONAL ...\n",
    "createCoapObserver( )\n",
    "\n",
    "console.log( \"CREATED connection to \" + coapResourceAddr ) "
   ]
  },
  {
   "cell_type": "code",
   "execution_count": null,
   "metadata": {},
   "outputs": [],
   "source": [
    "/*\n",
    "------------------------------------------------------------\n",
    "USE THE ROBOT\n",
    "------------------------------------------------------------\n",
    "*/\n",
    "const delay = (ms) => require(\"child_process\")\n",
    "    .execSync(`\"${process.argv[0]}\" -e setTimeout(function(){},${ms})`);\n",
    "forwardMsg(\"w\")\n",
    "//coapGet()\n",
    "delay(2)\n",
    "forwardMsg(\"h\")\n",
    "//coapGet()"
   ]
  },
  {
   "cell_type": "code",
   "execution_count": null,
   "metadata": {},
   "outputs": [],
   "source": [
    "var sleep = require('sleep'); \n",
    "console.log(\"start\");\n",
    "sleep.sleep(1);\n",
    "console.log(\"end\");"
   ]
  },
  {
   "cell_type": "code",
   "execution_count": 8,
   "metadata": {},
   "outputs": [
    {
     "name": "stdout",
     "output_type": "stream",
     "text": [
      "start\n"
     ]
    },
    {
     "name": "stderr",
     "output_type": "stream",
     "text": []
    },
    {
     "name": "stdout",
     "output_type": "stream",
     "text": [
      "end\n"
     ]
    }
   ],
   "source": [
    "const sleep2 = (ms) => require(\"child_process\")\n",
    "    .execSync(`\"${process.argv[0]}\" -e setTimeout(function(){},${ms})`);\n",
    "console.log(\"start\");\n",
    "sleep2(1)\n",
    "console.log(\"end\");"
   ]
  },
  {
   "cell_type": "code",
   "execution_count": null,
   "metadata": {},
   "outputs": [],
   "source": []
  }
 ],
 "metadata": {
  "kernelspec": {
   "display_name": "Javascript (Node.js)",
   "language": "javascript",
   "name": "javascript"
  },
  "language_info": {
   "file_extension": ".js",
   "mimetype": "application/javascript",
   "name": "javascript",
   "version": "6.11.1"
  }
 },
 "nbformat": 4,
 "nbformat_minor": 4
}
