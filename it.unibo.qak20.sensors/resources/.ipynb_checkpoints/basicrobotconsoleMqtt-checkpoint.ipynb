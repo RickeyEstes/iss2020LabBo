{
 "cells": [
  {
   "cell_type": "markdown",
   "metadata": {},
   "source": [
    "# Command console for the basicrobot\n",
    "\n",
    "Send commands by using MQTT topic <b>unibo/qak/basicrobot</b>"
   ]
  },
  {
   "cell_type": "code",
   "execution_count": null,
   "metadata": {},
   "outputs": [],
   "source": [
    "### ACTIVATE THE basicrobot\n",
    "### BETTER TO DO OUTSIDE jupyter: we must learn how to kill the process\n",
    "//%cd C:\\Didattica2018Run\\it.unibo.qak20.basicrobot-1.0\\bin\n",
    "%cd C:\\DidatticaRun\\it.unibo.qak20.basicrobot-1.0\\it.unibo.qak20.basicrobot-1.0\\bin\n",
    "! dir\n",
    "! it.unibo.qak20.basicrobot.bat"
   ]
  },
  {
   "cell_type": "code",
   "execution_count": 1,
   "metadata": {},
   "outputs": [
    {
     "ename": "SyntaxError",
     "evalue": "invalid syntax (<ipython-input-1-b1a8b49f71d3>, line 43)",
     "output_type": "error",
     "traceback": [
      "\u001b[1;36m  File \u001b[1;32m\"<ipython-input-1-b1a8b49f71d3>\"\u001b[1;36m, line \u001b[1;32m43\u001b[0m\n\u001b[1;33m    //client.subscribe(\"unibo/polar\")      #subscribe\u001b[0m\n\u001b[1;37m     ^\u001b[0m\n\u001b[1;31mSyntaxError\u001b[0m\u001b[1;31m:\u001b[0m invalid syntax\n"
     ]
    }
   ],
   "source": [
    "##############################################################\n",
    "# basicrobotconsole.py\n",
    "# \n",
    "##############################################################\n",
    "import paho.mqtt.client as paho\n",
    "\n",
    "### brokerAddr =\"broker.hivemq.com\"\n",
    "brokerAddr =\"localhost\"\n",
    "\n",
    "#define callback\n",
    "def on_message(client, userdata, message):\n",
    "    print(\"received message =\",str(message.payload.decode(\"utf-8\")))\n",
    "\n",
    "def requestStep(  ):\n",
    "    msg = \"msg(step,request,py,basicrobot,step(350),1)\"\n",
    "    ##print(\"requestMsg  requestMsg= :\" , msg  )\n",
    "    client.publish(\"unibo/qak/basicrobot\",msg) \n",
    "\n",
    "def forwardMsg( move ):\n",
    "    msg = \"msg(cmd,dispatch,py,basicrobot,cmd(\"+str(move)+\"),1)\"\n",
    "    print(\"forwarqdMsg  forwardMsg= :\" , msg  )\n",
    "    client.publish(\"unibo/qak/basicrobot\",msg) \n",
    "\n",
    "def console() :  \n",
    "    print(\"console  STARTS :\"   )\n",
    "    cmd =  str( input() )\n",
    "    while( cmd != \"q\"  ) :\n",
    "        #print( cmd )\n",
    "        if( cmd == \"p\" ) :\n",
    "            requestStep()\n",
    "        else :\n",
    "            forwardMsg( cmd )\n",
    "        cmd = str(input() )\n",
    "##################################################################\n",
    "\n",
    "client= paho.Client(\"basicrobotconsole\")  \n",
    "client.on_message=on_message            # Bind function to callback    \n",
    "\n",
    "client.connect(brokerAddr)              #connect\n",
    "print(\"connected to broker \", brokerAddr)\n",
    "\n",
    "## print(\"subscribing to unibo/polar\")\n",
    "## client.subscribe(\"unibo/polar\")      #subscribe\n",
    "\n",
    "## print(\"starting the client loop to receive sonar data\" )\n",
    "## client.loop_start()                  #start loop to process received messages\n",
    " \n",
    "console() "
   ]
  },
  {
   "cell_type": "code",
   "execution_count": null,
   "metadata": {},
   "outputs": [],
   "source": []
  },
  {
   "cell_type": "code",
   "execution_count": null,
   "metadata": {},
   "outputs": [],
   "source": []
  }
 ],
 "metadata": {
  "kernelspec": {
   "display_name": "Python 3",
   "language": "python",
   "name": "python3"
  },
  "language_info": {
   "codemirror_mode": {
    "name": "ipython",
    "version": 3
   },
   "file_extension": ".py",
   "mimetype": "text/x-python",
   "name": "python",
   "nbconvert_exporter": "python",
   "pygments_lexer": "ipython3",
   "version": "3.7.3"
  }
 },
 "nbformat": 4,
 "nbformat_minor": 4
}
