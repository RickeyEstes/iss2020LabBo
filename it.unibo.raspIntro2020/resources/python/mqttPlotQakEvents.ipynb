{
 "cells": [
  {
   "cell_type": "markdown",
   "metadata": {},
   "source": [
    "## mqttPlotQakEvents.py"
   ]
  },
  {
   "cell_type": "code",
   "execution_count": 4,
   "metadata": {},
   "outputs": [
    {
     "name": "stdout",
     "output_type": "stream",
     "text": [
      "connected to broker  broker.hivemq.com\n",
      "subscribing to unibo/qak/events\n",
      "collecting values; please wait ...\n",
      "evMsg= msg(sonarRobot,event,sonar,none,sonar(5),146) 5.0\n",
      "evMsg= msg(sonarRobot,event,sonar,none,sonar(111),156) 111.0\n",
      "evMsg= msg(sonarRobot,event,sonar,none,sonar(100),166) 100.0\n",
      "evMsg plot= msg(sonarRobot,event,sonar,none,sonar(16),167) msgnum= sonar(16)\n"
     ]
    },
    {
     "data": {
      "image/png": "[encoded data removed]",
      "text/plain": [
       "<Figure size 432x288 with 1 Axes>"
      ]
     },
     "metadata": {
      "needs_background": "light"
     },
     "output_type": "display_data"
    },
    {
     "name": "stdout",
     "output_type": "stream",
     "text": [
      "bye\n"
     ]
    }
   ],
   "source": [
    "import time\n",
    "import paho.mqtt.client as paho\n",
    "import matplotlib.pyplot as plt\n",
    "\n",
    "brokerAddr=\"broker.hivemq.com\"\n",
    "duration = 20\n",
    "x        = []\n",
    "y        = []\n",
    "z        = []\n",
    "goon     = True\n",
    "msgnum   = 0 \n",
    "###  msg(sonarRobot,event,sonar,none,sonar(V),N)\n",
    "def on_message(client, userdata, message) :   #define callback\n",
    "    global msgnum,  x,y,z, goon\n",
    "    if not goon :\n",
    "        return\n",
    "    evMsg   = str( message.payload.decode(\"utf-8\")  )\n",
    "    msgitems = evMsg.split(\",\")\n",
    "    if msgnum < 30  :\n",
    "        msgnum = msgnum + 1\n",
    "        vz = float( msgitems[4].split('(')[1].split(')')[0] )\n",
    "        if msgnum % 10 == 0  :\n",
    "            print(\"evMsg=\", evMsg, vz   )  \n",
    "        x.append( vz )\n",
    "    else  :\n",
    "        print(\"evMsg plot=\", evMsg, \"msgnum=\",  msgitems[4] )\n",
    "        plt.plot(list(x), color='red')\n",
    "        plt.show()\n",
    "        goon = False\n",
    "        client.disconnect()\n",
    "    \n",
    "client= paho.Client(\"receiver\")      \n",
    "client.on_message=on_message            # Bind function to callback\n",
    "\n",
    "client.connect(brokerAddr)              #connect\n",
    "print(\"connected to broker \", brokerAddr)\n",
    "print(\"subscribing to unibo/qak/events\")\n",
    "client.subscribe(\"unibo/qak/events\")      #subscribe\n",
    "\n",
    "print(\"collecting values; please wait ...\" )\n",
    "client.loop_start()             #start loop to process received messages\n",
    "time.sleep(duration)\n",
    "client.disconnect()             #disconnect\n",
    "print(\"bye\")\n",
    "client.loop_stop()              #stop loop        \n"
   ]
  },
  {
   "cell_type": "code",
   "execution_count": null,
   "metadata": {},
   "outputs": [],
   "source": []
  }
 ],
 "metadata": {
  "kernelspec": {
   "display_name": "Python 3",
   "language": "python",
   "name": "python3"
  },
  "language_info": {
   "codemirror_mode": {
    "name": "ipython",
    "version": 3
   },
   "file_extension": ".py",
   "mimetype": "text/x-python",
   "name": "python",
   "nbconvert_exporter": "python",
   "pygments_lexer": "ipython3",
   "version": "3.7.3"
  }
 },
 "nbformat": 4,
 "nbformat_minor": 2
}
